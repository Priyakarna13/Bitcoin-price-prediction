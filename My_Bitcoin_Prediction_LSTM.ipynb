{
  "nbformat": 4,
  "nbformat_minor": 5,
  "metadata": {
    "kernelspec": {
      "display_name": "Python 3",
      "language": "python",
      "name": "python3"
    },
    "language_info": {
      "codemirror_mode": {
        "name": "ipython",
        "version": 3
      },
      "file_extension": ".py",
      "mimetype": "text/x-python",
      "name": "python",
      "nbconvert_exporter": "python",
      "pygments_lexer": "ipython3",
      "version": "3.7.10"
    },
    "papermill": {
      "default_parameters": {},
      "duration": 445.889877,
      "end_time": "2021-09-06T17:53:00.609727",
      "environment_variables": {},
      "exception": null,
      "input_path": "__notebook__.ipynb",
      "output_path": "__notebook__.ipynb",
      "parameters": {},
      "start_time": "2021-09-06T17:45:34.719850",
      "version": "2.3.3"
    },
    "colab": {
      "name": "My_Bitcoin Prediction - LSTM.ipynb",
      "provenance": [],
      "collapsed_sections": []
    }
  },
  "cells": [
    {
      "cell_type": "code",
      "metadata": {
        "id": "g0Y5xLjfM2Z3"
      },
      "source": [
        "from google.colab import drive\n",
        "drive.mount('/content/drive')"
      ],
      "id": "g0Y5xLjfM2Z3",
      "execution_count": null,
      "outputs": []
    },
    {
      "cell_type": "code",
      "metadata": {
        "id": "voLRA5W-Nk3s"
      },
      "source": [
        "cd"
      ],
      "id": "voLRA5W-Nk3s",
      "execution_count": null,
      "outputs": []
    },
    {
      "cell_type": "code",
      "metadata": {
        "id": "4L5m_mLYNmjQ"
      },
      "source": [
        "cd '/content/drive/MyDrive/Colab Notebooks'"
      ],
      "id": "4L5m_mLYNmjQ",
      "execution_count": null,
      "outputs": []
    },
    {
      "cell_type": "code",
      "metadata": {
        "id": "C8x7KzH9NxR1"
      },
      "source": [
        "!unzip '/content/drive/MyDrive/Colab Notebooks/Bitcoin Dataset.zip'"
      ],
      "id": "C8x7KzH9NxR1",
      "execution_count": null,
      "outputs": []
    },
    {
      "cell_type": "code",
      "metadata": {
        "id": "EIbKlSQpOUpY"
      },
      "source": [
        "import pandas as pd\n",
        "import numpy as np\n",
        "import matplotlib.pyplot as plt\n",
        "from sklearn.preprocessing import MinMaxScaler\n",
        "from keras.models import Sequential\n",
        "from keras.layers import Dense,LSTM,Dropout"
      ],
      "id": "EIbKlSQpOUpY",
      "execution_count": null,
      "outputs": []
    },
    {
      "cell_type": "code",
      "metadata": {
        "execution": {
          "iopub.execute_input": "2021-09-06T17:45:48.301973Z",
          "iopub.status.busy": "2021-09-06T17:45:48.301416Z",
          "iopub.status.idle": "2021-09-06T17:45:55.701292Z",
          "shell.execute_reply": "2021-09-06T17:45:55.700569Z",
          "shell.execute_reply.started": "2021-09-06T17:37:17.103050Z"
        },
        "papermill": {
          "duration": 7.42144,
          "end_time": "2021-09-06T17:45:55.701456",
          "exception": false,
          "start_time": "2021-09-06T17:45:48.280016",
          "status": "completed"
        },
        "tags": [],
        "id": "5b69a5e8"
      },
      "source": [
        "ds = pd.read_csv(\"/content/drive/MyDrive/Colab Notebooks/bitstampUSD_1-min_data_2012-01-01_to_2021-03-31.csv\")\n",
        "ds.head()"
      ],
      "id": "5b69a5e8",
      "execution_count": null,
      "outputs": []
    },
    {
      "cell_type": "code",
      "metadata": {
        "colab": {
          "base_uri": "https://localhost:8080/",
          "height": 204
        },
        "id": "RRlgfra0RM7Y",
        "outputId": "b2a21a49-25fe-4277-e539-99e3f40d33f4"
      },
      "source": [
        "#ds = pd.read_csv(\"/content/bitstampUSD_1-min_data_2012-01-01_to_2021-03-31.csv\")\n",
        "#ds.head()"
      ],
      "id": "RRlgfra0RM7Y",
      "execution_count": null,
      "outputs": [
        {
          "output_type": "execute_result",
          "data": {
            "text/html": [
              "<div>\n",
              "<style scoped>\n",
              "    .dataframe tbody tr th:only-of-type {\n",
              "        vertical-align: middle;\n",
              "    }\n",
              "\n",
              "    .dataframe tbody tr th {\n",
              "        vertical-align: top;\n",
              "    }\n",
              "\n",
              "    .dataframe thead th {\n",
              "        text-align: right;\n",
              "    }\n",
              "</style>\n",
              "<table border=\"1\" class=\"dataframe\">\n",
              "  <thead>\n",
              "    <tr style=\"text-align: right;\">\n",
              "      <th></th>\n",
              "      <th>Timestamp</th>\n",
              "      <th>Open</th>\n",
              "      <th>High</th>\n",
              "      <th>Low</th>\n",
              "      <th>Close</th>\n",
              "      <th>Volume_(BTC)</th>\n",
              "      <th>Volume_(Currency)</th>\n",
              "      <th>Weighted_Price</th>\n",
              "    </tr>\n",
              "  </thead>\n",
              "  <tbody>\n",
              "    <tr>\n",
              "      <th>0</th>\n",
              "      <td>1325317920</td>\n",
              "      <td>4.39</td>\n",
              "      <td>4.39</td>\n",
              "      <td>4.39</td>\n",
              "      <td>4.39</td>\n",
              "      <td>0.455581</td>\n",
              "      <td>2.0</td>\n",
              "      <td>4.39</td>\n",
              "    </tr>\n",
              "    <tr>\n",
              "      <th>1</th>\n",
              "      <td>1325317980</td>\n",
              "      <td>NaN</td>\n",
              "      <td>NaN</td>\n",
              "      <td>NaN</td>\n",
              "      <td>NaN</td>\n",
              "      <td>NaN</td>\n",
              "      <td>NaN</td>\n",
              "      <td>NaN</td>\n",
              "    </tr>\n",
              "    <tr>\n",
              "      <th>2</th>\n",
              "      <td>1325318040</td>\n",
              "      <td>NaN</td>\n",
              "      <td>NaN</td>\n",
              "      <td>NaN</td>\n",
              "      <td>NaN</td>\n",
              "      <td>NaN</td>\n",
              "      <td>NaN</td>\n",
              "      <td>NaN</td>\n",
              "    </tr>\n",
              "    <tr>\n",
              "      <th>3</th>\n",
              "      <td>1325318100</td>\n",
              "      <td>NaN</td>\n",
              "      <td>NaN</td>\n",
              "      <td>NaN</td>\n",
              "      <td>NaN</td>\n",
              "      <td>NaN</td>\n",
              "      <td>NaN</td>\n",
              "      <td>NaN</td>\n",
              "    </tr>\n",
              "    <tr>\n",
              "      <th>4</th>\n",
              "      <td>1325318160</td>\n",
              "      <td>NaN</td>\n",
              "      <td>NaN</td>\n",
              "      <td>NaN</td>\n",
              "      <td>NaN</td>\n",
              "      <td>NaN</td>\n",
              "      <td>NaN</td>\n",
              "      <td>NaN</td>\n",
              "    </tr>\n",
              "  </tbody>\n",
              "</table>\n",
              "</div>"
            ],
            "text/plain": [
              "    Timestamp  Open  High  ...  Volume_(BTC)  Volume_(Currency)  Weighted_Price\n",
              "0  1325317920  4.39  4.39  ...      0.455581                2.0            4.39\n",
              "1  1325317980   NaN   NaN  ...           NaN                NaN             NaN\n",
              "2  1325318040   NaN   NaN  ...           NaN                NaN             NaN\n",
              "3  1325318100   NaN   NaN  ...           NaN                NaN             NaN\n",
              "4  1325318160   NaN   NaN  ...           NaN                NaN             NaN\n",
              "\n",
              "[5 rows x 8 columns]"
            ]
          },
          "metadata": {},
          "execution_count": 3
        }
      ]
    },
    {
      "cell_type": "code",
      "metadata": {
        "id": "cFmqzUa71RmC",
        "colab": {
          "base_uri": "https://localhost:8080/",
          "height": 235
        },
        "outputId": "078aed53-1597-49c4-99b2-289faca6a676"
      },
      "source": [
        "ds['Timestamp'] = pd.to_datetime(ds['Timestamp'],unit='s')\n",
        "ds = ds.set_index('Timestamp')\n",
        "ds['Price'] = (ds['High']+ ds['Low'])/2\n",
        "ds.head()\n"
      ],
      "id": "cFmqzUa71RmC",
      "execution_count": null,
      "outputs": [
        {
          "output_type": "execute_result",
          "data": {
            "text/html": [
              "<div>\n",
              "<style scoped>\n",
              "    .dataframe tbody tr th:only-of-type {\n",
              "        vertical-align: middle;\n",
              "    }\n",
              "\n",
              "    .dataframe tbody tr th {\n",
              "        vertical-align: top;\n",
              "    }\n",
              "\n",
              "    .dataframe thead th {\n",
              "        text-align: right;\n",
              "    }\n",
              "</style>\n",
              "<table border=\"1\" class=\"dataframe\">\n",
              "  <thead>\n",
              "    <tr style=\"text-align: right;\">\n",
              "      <th></th>\n",
              "      <th>Open</th>\n",
              "      <th>High</th>\n",
              "      <th>Low</th>\n",
              "      <th>Close</th>\n",
              "      <th>Volume_(BTC)</th>\n",
              "      <th>Volume_(Currency)</th>\n",
              "      <th>Weighted_Price</th>\n",
              "      <th>Price</th>\n",
              "    </tr>\n",
              "    <tr>\n",
              "      <th>Timestamp</th>\n",
              "      <th></th>\n",
              "      <th></th>\n",
              "      <th></th>\n",
              "      <th></th>\n",
              "      <th></th>\n",
              "      <th></th>\n",
              "      <th></th>\n",
              "      <th></th>\n",
              "    </tr>\n",
              "  </thead>\n",
              "  <tbody>\n",
              "    <tr>\n",
              "      <th>2011-12-31 07:52:00</th>\n",
              "      <td>4.39</td>\n",
              "      <td>4.39</td>\n",
              "      <td>4.39</td>\n",
              "      <td>4.39</td>\n",
              "      <td>0.455581</td>\n",
              "      <td>2.0</td>\n",
              "      <td>4.39</td>\n",
              "      <td>4.39</td>\n",
              "    </tr>\n",
              "    <tr>\n",
              "      <th>2011-12-31 07:53:00</th>\n",
              "      <td>NaN</td>\n",
              "      <td>NaN</td>\n",
              "      <td>NaN</td>\n",
              "      <td>NaN</td>\n",
              "      <td>NaN</td>\n",
              "      <td>NaN</td>\n",
              "      <td>NaN</td>\n",
              "      <td>NaN</td>\n",
              "    </tr>\n",
              "    <tr>\n",
              "      <th>2011-12-31 07:54:00</th>\n",
              "      <td>NaN</td>\n",
              "      <td>NaN</td>\n",
              "      <td>NaN</td>\n",
              "      <td>NaN</td>\n",
              "      <td>NaN</td>\n",
              "      <td>NaN</td>\n",
              "      <td>NaN</td>\n",
              "      <td>NaN</td>\n",
              "    </tr>\n",
              "    <tr>\n",
              "      <th>2011-12-31 07:55:00</th>\n",
              "      <td>NaN</td>\n",
              "      <td>NaN</td>\n",
              "      <td>NaN</td>\n",
              "      <td>NaN</td>\n",
              "      <td>NaN</td>\n",
              "      <td>NaN</td>\n",
              "      <td>NaN</td>\n",
              "      <td>NaN</td>\n",
              "    </tr>\n",
              "    <tr>\n",
              "      <th>2011-12-31 07:56:00</th>\n",
              "      <td>NaN</td>\n",
              "      <td>NaN</td>\n",
              "      <td>NaN</td>\n",
              "      <td>NaN</td>\n",
              "      <td>NaN</td>\n",
              "      <td>NaN</td>\n",
              "      <td>NaN</td>\n",
              "      <td>NaN</td>\n",
              "    </tr>\n",
              "  </tbody>\n",
              "</table>\n",
              "</div>"
            ],
            "text/plain": [
              "                     Open  High   Low  ...  Volume_(Currency)  Weighted_Price  Price\n",
              "Timestamp                              ...                                          \n",
              "2011-12-31 07:52:00  4.39  4.39  4.39  ...                2.0            4.39   4.39\n",
              "2011-12-31 07:53:00   NaN   NaN   NaN  ...                NaN             NaN    NaN\n",
              "2011-12-31 07:54:00   NaN   NaN   NaN  ...                NaN             NaN    NaN\n",
              "2011-12-31 07:55:00   NaN   NaN   NaN  ...                NaN             NaN    NaN\n",
              "2011-12-31 07:56:00   NaN   NaN   NaN  ...                NaN             NaN    NaN\n",
              "\n",
              "[5 rows x 8 columns]"
            ]
          },
          "metadata": {},
          "execution_count": 4
        }
      ]
    },
    {
      "cell_type": "code",
      "metadata": {
        "id": "jjE95-Pp1WIF",
        "colab": {
          "base_uri": "https://localhost:8080/",
          "height": 235
        },
        "outputId": "6f5f5391-0f55-4c9d-9e10-4666dca7d966"
      },
      "source": [
        "ds = ds.resample('6H').mean()\n",
        "ds = ds.dropna()\n",
        "ds.head()"
      ],
      "id": "jjE95-Pp1WIF",
      "execution_count": null,
      "outputs": [
        {
          "output_type": "execute_result",
          "data": {
            "text/html": [
              "<div>\n",
              "<style scoped>\n",
              "    .dataframe tbody tr th:only-of-type {\n",
              "        vertical-align: middle;\n",
              "    }\n",
              "\n",
              "    .dataframe tbody tr th {\n",
              "        vertical-align: top;\n",
              "    }\n",
              "\n",
              "    .dataframe thead th {\n",
              "        text-align: right;\n",
              "    }\n",
              "</style>\n",
              "<table border=\"1\" class=\"dataframe\">\n",
              "  <thead>\n",
              "    <tr style=\"text-align: right;\">\n",
              "      <th></th>\n",
              "      <th>Open</th>\n",
              "      <th>High</th>\n",
              "      <th>Low</th>\n",
              "      <th>Close</th>\n",
              "      <th>Volume_(BTC)</th>\n",
              "      <th>Volume_(Currency)</th>\n",
              "      <th>Weighted_Price</th>\n",
              "      <th>Price</th>\n",
              "    </tr>\n",
              "    <tr>\n",
              "      <th>Timestamp</th>\n",
              "      <th></th>\n",
              "      <th></th>\n",
              "      <th></th>\n",
              "      <th></th>\n",
              "      <th></th>\n",
              "      <th></th>\n",
              "      <th></th>\n",
              "      <th></th>\n",
              "    </tr>\n",
              "  </thead>\n",
              "  <tbody>\n",
              "    <tr>\n",
              "      <th>2011-12-31 06:00:00</th>\n",
              "      <td>4.39</td>\n",
              "      <td>4.390000</td>\n",
              "      <td>4.39</td>\n",
              "      <td>4.390000</td>\n",
              "      <td>0.455581</td>\n",
              "      <td>2.000000</td>\n",
              "      <td>4.390000</td>\n",
              "      <td>4.390000</td>\n",
              "    </tr>\n",
              "    <tr>\n",
              "      <th>2011-12-31 12:00:00</th>\n",
              "      <td>4.49</td>\n",
              "      <td>4.513333</td>\n",
              "      <td>4.49</td>\n",
              "      <td>4.513333</td>\n",
              "      <td>31.620766</td>\n",
              "      <td>141.106779</td>\n",
              "      <td>4.498804</td>\n",
              "      <td>4.501667</td>\n",
              "    </tr>\n",
              "    <tr>\n",
              "      <th>2012-01-01 00:00:00</th>\n",
              "      <td>4.58</td>\n",
              "      <td>4.580000</td>\n",
              "      <td>4.58</td>\n",
              "      <td>4.580000</td>\n",
              "      <td>1.502000</td>\n",
              "      <td>6.879160</td>\n",
              "      <td>4.580000</td>\n",
              "      <td>4.580000</td>\n",
              "    </tr>\n",
              "    <tr>\n",
              "      <th>2012-01-01 12:00:00</th>\n",
              "      <td>4.84</td>\n",
              "      <td>4.840000</td>\n",
              "      <td>4.84</td>\n",
              "      <td>4.840000</td>\n",
              "      <td>10.000000</td>\n",
              "      <td>48.400000</td>\n",
              "      <td>4.840000</td>\n",
              "      <td>4.840000</td>\n",
              "    </tr>\n",
              "    <tr>\n",
              "      <th>2012-01-01 18:00:00</th>\n",
              "      <td>5.00</td>\n",
              "      <td>5.000000</td>\n",
              "      <td>5.00</td>\n",
              "      <td>5.000000</td>\n",
              "      <td>10.100000</td>\n",
              "      <td>50.500000</td>\n",
              "      <td>5.000000</td>\n",
              "      <td>5.000000</td>\n",
              "    </tr>\n",
              "  </tbody>\n",
              "</table>\n",
              "</div>"
            ],
            "text/plain": [
              "                     Open      High  ...  Weighted_Price     Price\n",
              "Timestamp                            ...                          \n",
              "2011-12-31 06:00:00  4.39  4.390000  ...        4.390000  4.390000\n",
              "2011-12-31 12:00:00  4.49  4.513333  ...        4.498804  4.501667\n",
              "2012-01-01 00:00:00  4.58  4.580000  ...        4.580000  4.580000\n",
              "2012-01-01 12:00:00  4.84  4.840000  ...        4.840000  4.840000\n",
              "2012-01-01 18:00:00  5.00  5.000000  ...        5.000000  5.000000\n",
              "\n",
              "[5 rows x 8 columns]"
            ]
          },
          "metadata": {},
          "execution_count": 5
        }
      ]
    },
    {
      "cell_type": "code",
      "metadata": {
        "id": "WUqBKM6mL2I4"
      },
      "source": [
        "forecast_out = 500\n",
        "train= ds['Price'][:len(ds['Price'])-forecast_out].values.reshape(-1,1)\n",
        "test= ds['Price'][len(ds['Price'])-forecast_out:].values.reshape(-1,1)\n",
        "\n",
        "scaler_train = MinMaxScaler(feature_range=(0, 1))\n",
        "scaled_train = scaler_train.fit_transform(train)\n",
        "\n",
        "scaler_test = MinMaxScaler(feature_range=(0, 1))\n",
        "scaled_test = scaler_test.fit_transform(test)"
      ],
      "id": "WUqBKM6mL2I4",
      "execution_count": null,
      "outputs": []
    },
    {
      "cell_type": "code",
      "metadata": {
        "execution": {
          "iopub.execute_input": "2021-09-06T17:45:55.934112Z",
          "iopub.status.busy": "2021-09-06T17:45:55.924482Z",
          "iopub.status.idle": "2021-09-06T17:45:55.948756Z",
          "shell.execute_reply": "2021-09-06T17:45:55.948355Z",
          "shell.execute_reply.started": "2021-09-06T17:37:25.194746Z"
        },
        "papermill": {
          "duration": 0.049012,
          "end_time": "2021-09-06T17:45:55.948862",
          "exception": false,
          "start_time": "2021-09-06T17:45:55.899850",
          "status": "completed"
        },
        "tags": [],
        "id": "e57fd437"
      },
      "source": [
        "def create_dataset(dataset, look_back=30):\n",
        "    X, Y = [], []\n",
        "    for i in range(len(dataset) - look_back):\n",
        "        a = dataset[i:(i + look_back), 0]\n",
        "        X.append(a)\n",
        "        Y.append(dataset[i + look_back, 0])\n",
        "    return np.array(X), np.array(Y)\n",
        "\n",
        "x_train, y_train = create_dataset(scaled_train)\n",
        "x_test, y_test = create_dataset(scaled_test)"
      ],
      "id": "e57fd437",
      "execution_count": null,
      "outputs": []
    },
    {
      "cell_type": "code",
      "metadata": {
        "execution": {
          "iopub.execute_input": "2021-09-06T17:45:56.077363Z",
          "iopub.status.busy": "2021-09-06T17:45:56.076871Z",
          "iopub.status.idle": "2021-09-06T17:45:56.080073Z",
          "shell.execute_reply": "2021-09-06T17:45:56.080450Z",
          "shell.execute_reply.started": "2021-09-06T17:37:25.245943Z"
        },
        "papermill": {
          "duration": 0.025246,
          "end_time": "2021-09-06T17:45:56.080564",
          "exception": false,
          "start_time": "2021-09-06T17:45:56.055318",
          "status": "completed"
        },
        "tags": [],
        "id": "74cb285b"
      },
      "source": [
        "x_train = np.reshape(x_train, (x_train.shape[0], 1, x_train.shape[1]))\n",
        "x_test = np.reshape(x_test, (x_test.shape[0], 1, x_test.shape[1]))"
      ],
      "id": "74cb285b",
      "execution_count": null,
      "outputs": []
    },
    {
      "cell_type": "code",
      "metadata": {
        "colab": {
          "base_uri": "https://localhost:8080/"
        },
        "id": "vAfikgVdOgzL",
        "outputId": "3d937edd-3a92-4c0d-80ae-33884204c5a6"
      },
      "source": [
        "pip install keras-tuner --upgrade"
      ],
      "id": "vAfikgVdOgzL",
      "execution_count": null,
      "outputs": [
        {
          "output_type": "stream",
          "name": "stdout",
          "text": [
            "Collecting keras-tuner\n",
            "  Downloading keras_tuner-1.0.4-py3-none-any.whl (97 kB)\n",
            "\u001b[?25l\r\u001b[K     |███▍                            | 10 kB 21.8 MB/s eta 0:00:01\r\u001b[K     |██████▊                         | 20 kB 25.7 MB/s eta 0:00:01\r\u001b[K     |██████████                      | 30 kB 30.2 MB/s eta 0:00:01\r\u001b[K     |█████████████▍                  | 40 kB 22.4 MB/s eta 0:00:01\r\u001b[K     |████████████████▊               | 51 kB 8.8 MB/s eta 0:00:01\r\u001b[K     |████████████████████            | 61 kB 9.5 MB/s eta 0:00:01\r\u001b[K     |███████████████████████▍        | 71 kB 7.8 MB/s eta 0:00:01\r\u001b[K     |██████████████████████████▊     | 81 kB 8.6 MB/s eta 0:00:01\r\u001b[K     |██████████████████████████████▏ | 92 kB 8.7 MB/s eta 0:00:01\r\u001b[K     |████████████████████████████████| 97 kB 4.4 MB/s \n",
            "\u001b[?25hRequirement already satisfied: scipy in /usr/local/lib/python3.7/dist-packages (from keras-tuner) (1.4.1)\n",
            "Requirement already satisfied: requests in /usr/local/lib/python3.7/dist-packages (from keras-tuner) (2.23.0)\n",
            "Requirement already satisfied: numpy in /usr/local/lib/python3.7/dist-packages (from keras-tuner) (1.19.5)\n",
            "Requirement already satisfied: ipython in /usr/local/lib/python3.7/dist-packages (from keras-tuner) (5.5.0)\n",
            "Requirement already satisfied: tensorboard in /usr/local/lib/python3.7/dist-packages (from keras-tuner) (2.6.0)\n",
            "Requirement already satisfied: packaging in /usr/local/lib/python3.7/dist-packages (from keras-tuner) (21.0)\n",
            "Collecting kt-legacy\n",
            "  Downloading kt_legacy-1.0.4-py3-none-any.whl (9.6 kB)\n",
            "Requirement already satisfied: setuptools>=18.5 in /usr/local/lib/python3.7/dist-packages (from ipython->keras-tuner) (57.4.0)\n",
            "Requirement already satisfied: decorator in /usr/local/lib/python3.7/dist-packages (from ipython->keras-tuner) (4.4.2)\n",
            "Requirement already satisfied: traitlets>=4.2 in /usr/local/lib/python3.7/dist-packages (from ipython->keras-tuner) (5.1.0)\n",
            "Requirement already satisfied: pexpect in /usr/local/lib/python3.7/dist-packages (from ipython->keras-tuner) (4.8.0)\n",
            "Requirement already satisfied: prompt-toolkit<2.0.0,>=1.0.4 in /usr/local/lib/python3.7/dist-packages (from ipython->keras-tuner) (1.0.18)\n",
            "Requirement already satisfied: pickleshare in /usr/local/lib/python3.7/dist-packages (from ipython->keras-tuner) (0.7.5)\n",
            "Requirement already satisfied: pygments in /usr/local/lib/python3.7/dist-packages (from ipython->keras-tuner) (2.6.1)\n",
            "Requirement already satisfied: simplegeneric>0.8 in /usr/local/lib/python3.7/dist-packages (from ipython->keras-tuner) (0.8.1)\n",
            "Requirement already satisfied: wcwidth in /usr/local/lib/python3.7/dist-packages (from prompt-toolkit<2.0.0,>=1.0.4->ipython->keras-tuner) (0.2.5)\n",
            "Requirement already satisfied: six>=1.9.0 in /usr/local/lib/python3.7/dist-packages (from prompt-toolkit<2.0.0,>=1.0.4->ipython->keras-tuner) (1.15.0)\n",
            "Requirement already satisfied: pyparsing>=2.0.2 in /usr/local/lib/python3.7/dist-packages (from packaging->keras-tuner) (2.4.7)\n",
            "Requirement already satisfied: ptyprocess>=0.5 in /usr/local/lib/python3.7/dist-packages (from pexpect->ipython->keras-tuner) (0.7.0)\n",
            "Requirement already satisfied: chardet<4,>=3.0.2 in /usr/local/lib/python3.7/dist-packages (from requests->keras-tuner) (3.0.4)\n",
            "Requirement already satisfied: certifi>=2017.4.17 in /usr/local/lib/python3.7/dist-packages (from requests->keras-tuner) (2021.5.30)\n",
            "Requirement already satisfied: idna<3,>=2.5 in /usr/local/lib/python3.7/dist-packages (from requests->keras-tuner) (2.10)\n",
            "Requirement already satisfied: urllib3!=1.25.0,!=1.25.1,<1.26,>=1.21.1 in /usr/local/lib/python3.7/dist-packages (from requests->keras-tuner) (1.24.3)\n",
            "Requirement already satisfied: google-auth<2,>=1.6.3 in /usr/local/lib/python3.7/dist-packages (from tensorboard->keras-tuner) (1.35.0)\n",
            "Requirement already satisfied: markdown>=2.6.8 in /usr/local/lib/python3.7/dist-packages (from tensorboard->keras-tuner) (3.3.4)\n",
            "Requirement already satisfied: tensorboard-data-server<0.7.0,>=0.6.0 in /usr/local/lib/python3.7/dist-packages (from tensorboard->keras-tuner) (0.6.1)\n",
            "Requirement already satisfied: wheel>=0.26 in /usr/local/lib/python3.7/dist-packages (from tensorboard->keras-tuner) (0.37.0)\n",
            "Requirement already satisfied: protobuf>=3.6.0 in /usr/local/lib/python3.7/dist-packages (from tensorboard->keras-tuner) (3.17.3)\n",
            "Requirement already satisfied: tensorboard-plugin-wit>=1.6.0 in /usr/local/lib/python3.7/dist-packages (from tensorboard->keras-tuner) (1.8.0)\n",
            "Requirement already satisfied: absl-py>=0.4 in /usr/local/lib/python3.7/dist-packages (from tensorboard->keras-tuner) (0.12.0)\n",
            "Requirement already satisfied: google-auth-oauthlib<0.5,>=0.4.1 in /usr/local/lib/python3.7/dist-packages (from tensorboard->keras-tuner) (0.4.6)\n",
            "Requirement already satisfied: werkzeug>=0.11.15 in /usr/local/lib/python3.7/dist-packages (from tensorboard->keras-tuner) (1.0.1)\n",
            "Requirement already satisfied: grpcio>=1.24.3 in /usr/local/lib/python3.7/dist-packages (from tensorboard->keras-tuner) (1.41.0)\n",
            "Requirement already satisfied: cachetools<5.0,>=2.0.0 in /usr/local/lib/python3.7/dist-packages (from google-auth<2,>=1.6.3->tensorboard->keras-tuner) (4.2.4)\n",
            "Requirement already satisfied: pyasn1-modules>=0.2.1 in /usr/local/lib/python3.7/dist-packages (from google-auth<2,>=1.6.3->tensorboard->keras-tuner) (0.2.8)\n",
            "Requirement already satisfied: rsa<5,>=3.1.4 in /usr/local/lib/python3.7/dist-packages (from google-auth<2,>=1.6.3->tensorboard->keras-tuner) (4.7.2)\n",
            "Requirement already satisfied: requests-oauthlib>=0.7.0 in /usr/local/lib/python3.7/dist-packages (from google-auth-oauthlib<0.5,>=0.4.1->tensorboard->keras-tuner) (1.3.0)\n",
            "Requirement already satisfied: importlib-metadata in /usr/local/lib/python3.7/dist-packages (from markdown>=2.6.8->tensorboard->keras-tuner) (4.8.1)\n",
            "Requirement already satisfied: pyasn1<0.5.0,>=0.4.6 in /usr/local/lib/python3.7/dist-packages (from pyasn1-modules>=0.2.1->google-auth<2,>=1.6.3->tensorboard->keras-tuner) (0.4.8)\n",
            "Requirement already satisfied: oauthlib>=3.0.0 in /usr/local/lib/python3.7/dist-packages (from requests-oauthlib>=0.7.0->google-auth-oauthlib<0.5,>=0.4.1->tensorboard->keras-tuner) (3.1.1)\n",
            "Requirement already satisfied: typing-extensions>=3.6.4 in /usr/local/lib/python3.7/dist-packages (from importlib-metadata->markdown>=2.6.8->tensorboard->keras-tuner) (3.7.4.3)\n",
            "Requirement already satisfied: zipp>=0.5 in /usr/local/lib/python3.7/dist-packages (from importlib-metadata->markdown>=2.6.8->tensorboard->keras-tuner) (3.6.0)\n",
            "Installing collected packages: kt-legacy, keras-tuner\n",
            "Successfully installed keras-tuner-1.0.4 kt-legacy-1.0.4\n"
          ]
        }
      ]
    },
    {
      "cell_type": "code",
      "metadata": {
        "execution": {
          "iopub.execute_input": "2021-09-06T17:45:56.127284Z",
          "iopub.status.busy": "2021-09-06T17:45:56.126796Z",
          "iopub.status.idle": "2021-09-06T17:51:35.711583Z",
          "shell.execute_reply": "2021-09-06T17:51:35.711093Z",
          "shell.execute_reply.started": "2021-09-06T17:37:25.253243Z"
        },
        "papermill": {
          "duration": 339.612975,
          "end_time": "2021-09-06T17:51:35.711741",
          "exception": false,
          "start_time": "2021-09-06T17:45:56.098766",
          "status": "completed"
        },
        "tags": [],
        "id": "6e0cc238"
      },
      "source": [
        "import keras_tuner as kt\n",
        "\n",
        "def model_builder(hp):\n",
        "    model = Sequential()\n",
        "    model.add(LSTM(hp.Int('input_unit',min_value=32,max_value=512,step=32), return_sequences=True, input_shape= ( x_train.shape[1], x_train.shape[2])))\n",
        "    for i in range(hp.Int('n_layers', 1, 4)):\n",
        "        model.add(LSTM(hp.Int(f'lstm_{i}_units',min_value=32,max_value=512,step=32),return_sequences=True))\n",
        "    model.add(LSTM(hp.Int('layer_2_neurons',min_value=32,max_value=512,step=32)))\n",
        "    model.add(Dropout(hp.Float('Dropout_rate',min_value=0,max_value=0.5,step=0.05)))\n",
        "    model.add(Dense(30, activation=hp.Choice('dense_activation',values=['relu', 'sigmoid'],default='relu')))\n",
        "    model.add(Dropout(hp.Float('Dropout_rate',min_value=0,max_value=0.5,step=0.05)))\n",
        "    model.add(Dense(1, activation=hp.Choice('dense_activation',values=['relu', 'sigmoid'],default='relu')))\n",
        "   \n",
        "    model.compile(loss='mean_squared_error', optimizer='adam',metrics = ['mse'])\n",
        "    \n",
        "    return model\n",
        "    \n"
      ],
      "id": "6e0cc238",
      "execution_count": null,
      "outputs": []
    },
    {
      "cell_type": "code",
      "metadata": {
        "id": "VHnzhxsdPOqE"
      },
      "source": [
        "tuner = kt.RandomSearch(model_builder, objective=\"mse\", max_trials = 3, executions_per_trial =1,directory = \"./\")\n",
        "\n",
        "tuner.search(x_train, y=y_train, epochs = 160, batch_size =128, validation_data=(x_test, y_test), shuffle=False)"
      ],
      "id": "VHnzhxsdPOqE",
      "execution_count": null,
      "outputs": []
    },
    {
      "cell_type": "code",
      "metadata": {
        "execution": {
          "iopub.execute_input": "2021-09-06T17:51:35.756842Z",
          "iopub.status.busy": "2021-09-06T17:51:35.754843Z",
          "iopub.status.idle": "2021-09-06T17:51:35.765944Z",
          "shell.execute_reply": "2021-09-06T17:51:35.765500Z",
          "shell.execute_reply.started": "2021-09-06T17:43:39.783778Z"
        },
        "papermill": {
          "duration": 0.034928,
          "end_time": "2021-09-06T17:51:35.766051",
          "exception": false,
          "start_time": "2021-09-06T17:51:35.731123",
          "status": "completed"
        },
        "tags": [],
        "id": "820480b5",
        "colab": {
          "base_uri": "https://localhost:8080/"
        },
        "outputId": "dd293cee-eb75-482b-c806-de99d7620d7c"
      },
      "source": [
        "tuner.results_summary()"
      ],
      "id": "820480b5",
      "execution_count": null,
      "outputs": [
        {
          "output_type": "stream",
          "name": "stdout",
          "text": [
            "Results summary\n",
            "Results in ./untitled_project\n",
            "Showing 10 best trials\n",
            "Objective(name='mse', direction='min')\n",
            "Trial summary\n",
            "Hyperparameters:\n",
            "input_unit: 160\n",
            "n_layers: 4\n",
            "lstm_0_units: 448\n",
            "layer_2_neurons: 480\n",
            "Dropout_rate: 0.05\n",
            "dense_activation: sigmoid\n",
            "lstm_1_units: 32\n",
            "lstm_2_units: 32\n",
            "lstm_3_units: 32\n",
            "Score: 0.048442158848047256\n",
            "Trial summary\n",
            "Hyperparameters:\n",
            "input_unit: 512\n",
            "n_layers: 3\n",
            "lstm_0_units: 512\n",
            "layer_2_neurons: 160\n",
            "Dropout_rate: 0.25\n",
            "dense_activation: relu\n",
            "lstm_1_units: 288\n",
            "lstm_2_units: 512\n",
            "lstm_3_units: 256\n",
            "Score: 0.07578345388174057\n"
          ]
        }
      ]
    },
    {
      "cell_type": "code",
      "metadata": {
        "execution": {
          "iopub.execute_input": "2021-09-06T17:51:35.808975Z",
          "iopub.status.busy": "2021-09-06T17:51:35.807785Z",
          "iopub.status.idle": "2021-09-06T17:51:37.004839Z",
          "shell.execute_reply": "2021-09-06T17:51:37.003889Z",
          "shell.execute_reply.started": "2021-09-06T17:43:39.800292Z"
        },
        "papermill": {
          "duration": 1.219735,
          "end_time": "2021-09-06T17:51:37.004992",
          "exception": false,
          "start_time": "2021-09-06T17:51:35.785257",
          "status": "completed"
        },
        "tags": [],
        "id": "1dc2baee"
      },
      "source": [
        "best_model = tuner.get_best_models(num_models=1)[0]"
      ],
      "id": "1dc2baee",
      "execution_count": null,
      "outputs": []
    },
    {
      "cell_type": "code",
      "metadata": {
        "execution": {
          "iopub.execute_input": "2021-09-06T17:51:37.048103Z",
          "iopub.status.busy": "2021-09-06T17:51:37.047108Z",
          "iopub.status.idle": "2021-09-06T17:52:56.784413Z",
          "shell.execute_reply": "2021-09-06T17:52:56.783496Z",
          "shell.execute_reply.started": "2021-09-06T17:43:40.854607Z"
        },
        "papermill": {
          "duration": 79.760493,
          "end_time": "2021-09-06T17:52:56.784566",
          "exception": false,
          "start_time": "2021-09-06T17:51:37.024073",
          "status": "completed"
        },
        "tags": [],
        "id": "fbf032a9"
      },
      "source": [
        "history = best_model.fit(x=x_train, y=y_train, epochs = 150, batch_size =128, validation_data=(x_test, y_test), shuffle=False, verbose=0)"
      ],
      "id": "fbf032a9",
      "execution_count": null,
      "outputs": []
    },
    {
      "cell_type": "code",
      "metadata": {
        "execution": {
          "iopub.execute_input": "2021-09-06T17:52:56.840156Z",
          "iopub.status.busy": "2021-09-06T17:52:56.839623Z",
          "iopub.status.idle": "2021-09-06T17:52:56.987293Z",
          "shell.execute_reply": "2021-09-06T17:52:56.987703Z",
          "shell.execute_reply.started": "2021-09-06T17:45:02.761566Z"
        },
        "papermill": {
          "duration": 0.18364,
          "end_time": "2021-09-06T17:52:56.987834",
          "exception": false,
          "start_time": "2021-09-06T17:52:56.804194",
          "status": "completed"
        },
        "tags": [],
        "id": "788f1679",
        "colab": {
          "base_uri": "https://localhost:8080/",
          "height": 265
        },
        "outputId": "420107ba-5b01-4748-ca58-61fb469ce215"
      },
      "source": [
        "plt.plot(history.history['loss'], label='train')\n",
        "plt.plot(history.history['val_loss'], label='test')\n",
        "plt.legend()\n",
        "plt.show()"
      ],
      "id": "788f1679",
      "execution_count": null,
      "outputs": [
        {
          "output_type": "display_data",
          "data": {
            "image/png": "[encoded data removed]",
            "text/plain": [
              "<Figure size 432x288 with 1 Axes>"
            ]
          },
          "metadata": {
            "needs_background": "light"
          }
        }
      ]
    },
    {
      "cell_type": "code",
      "metadata": {
        "execution": {
          "iopub.execute_input": "2021-09-06T17:52:57.031789Z",
          "iopub.status.busy": "2021-09-06T17:52:57.031035Z",
          "iopub.status.idle": "2021-09-06T17:52:57.858896Z",
          "shell.execute_reply": "2021-09-06T17:52:57.858379Z",
          "shell.execute_reply.started": "2021-09-06T17:45:02.929362Z"
        },
        "papermill": {
          "duration": 0.851091,
          "end_time": "2021-09-06T17:52:57.859035",
          "exception": false,
          "start_time": "2021-09-06T17:52:57.007944",
          "status": "completed"
        },
        "tags": [],
        "id": "e19cdad4"
      },
      "source": [
        "predicted_price = best_model.predict(x_test)"
      ],
      "id": "e19cdad4",
      "execution_count": null,
      "outputs": []
    },
    {
      "cell_type": "code",
      "metadata": {
        "execution": {
          "iopub.execute_input": "2021-09-06T17:52:57.904455Z",
          "iopub.status.busy": "2021-09-06T17:52:57.903244Z",
          "iopub.status.idle": "2021-09-06T17:52:57.906008Z",
          "shell.execute_reply": "2021-09-06T17:52:57.905595Z",
          "shell.execute_reply.started": "2021-09-06T17:45:03.764796Z"
        },
        "papermill": {
          "duration": 0.026678,
          "end_time": "2021-09-06T17:52:57.906120",
          "exception": false,
          "start_time": "2021-09-06T17:52:57.879442",
          "status": "completed"
        },
        "tags": [],
        "id": "516d07a4"
      },
      "source": [
        "predicted_price = scaler_test.inverse_transform(predicted_price.reshape(-1, 1))"
      ],
      "id": "516d07a4",
      "execution_count": null,
      "outputs": []
    },
    {
      "cell_type": "code",
      "metadata": {
        "execution": {
          "iopub.execute_input": "2021-09-06T17:52:57.949547Z",
          "iopub.status.busy": "2021-09-06T17:52:57.949068Z",
          "iopub.status.idle": "2021-09-06T17:52:57.952894Z",
          "shell.execute_reply": "2021-09-06T17:52:57.952472Z",
          "shell.execute_reply.started": "2021-09-06T17:45:03.771854Z"
        },
        "papermill": {
          "duration": 0.027146,
          "end_time": "2021-09-06T17:52:57.952991",
          "exception": false,
          "start_time": "2021-09-06T17:52:57.925845",
          "status": "completed"
        },
        "tags": [],
        "id": "98600907"
      },
      "source": [
        "true = scaler_test.inverse_transform(y_test.reshape(-1, 1))"
      ],
      "id": "98600907",
      "execution_count": null,
      "outputs": []
    },
    {
      "cell_type": "code",
      "metadata": {
        "execution": {
          "iopub.execute_input": "2021-09-06T17:52:58.021191Z",
          "iopub.status.busy": "2021-09-06T17:52:57.996623Z",
          "iopub.status.idle": "2021-09-06T17:52:58.117871Z",
          "shell.execute_reply": "2021-09-06T17:52:58.117402Z",
          "shell.execute_reply.started": "2021-09-06T17:45:03.782156Z"
        },
        "papermill": {
          "duration": 0.1451,
          "end_time": "2021-09-06T17:52:58.117970",
          "exception": false,
          "start_time": "2021-09-06T17:52:57.972870",
          "status": "completed"
        },
        "tags": [],
        "id": "5c60b262",
        "colab": {
          "base_uri": "https://localhost:8080/",
          "height": 265
        },
        "outputId": "f948fd73-af2c-495b-a554-0004eb4af769"
      },
      "source": [
        "plt.plot(predicted_price, label='Predict')\n",
        "plt.plot(true, label='True')\n",
        "plt.legend()\n",
        "plt.show()"
      ],
      "id": "5c60b262",
      "execution_count": null,
      "outputs": [
        {
          "output_type": "display_data",
          "data": {
            "image/png": "[encoded data removed]",
            "text/plain": [
              "<Figure size 432x288 with 1 Axes>"
            ]
          },
          "metadata": {
            "needs_background": "light"
          }
        }
      ]
    }
  ]
}