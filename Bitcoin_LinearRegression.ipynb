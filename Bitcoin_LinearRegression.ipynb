{
  "nbformat": 4,
  "nbformat_minor": 0,
  "metadata": {
    "colab": {
      "name": "Bitcoin_LinearRegression.ipynb",
      "provenance": [],
      "collapsed_sections": [],
      "authorship_tag": "ABX9TyPOQpKCuauM8rRrLRprUT2x"
    },
    "kernelspec": {
      "name": "python3",
      "display_name": "Python 3"
    },
    "language_info": {
      "name": "python"
    }
  },
  "cells": [
    {
      "cell_type": "code",
      "metadata": {
        "id": "qiroioRGyS6k"
      },
      "source": [
        "import pandas as pd\n",
        "import numpy as np\n",
        "import datetime\n",
        "from sklearn.linear_model import LinearRegression\n",
        "from sklearn.model_selection import train_test_split\n",
        "from sklearn import preprocessing, svm\n",
        "from sklearn.model_selection import cross_validate,cross_val_score,cross_val_predict\n",
        "import matplotlib.pylab as plt\n",
        "%matplotlib inline\n",
        "from matplotlib.pylab import rcParams\n",
        "from datetime import datetime, timedelta\n",
        "from sklearn.metrics import mean_squared_error\n",
        "from math import sqrt\n",
        "rcParams['figure.figsize'] = 15, 6"
      ],
      "execution_count": null,
      "outputs": []
    },
    {
      "cell_type": "code",
      "metadata": {
        "colab": {
          "base_uri": "https://localhost:8080/",
          "height": 419
        },
        "id": "cezhC73zyslK",
        "outputId": "fc195c9f-b9ba-4f84-f191-b6bb665e697d"
      },
      "source": [
        "ds=pd.read_csv('/content/bitstampUSD_1-min_data_2012-01-01_to_2021-03-31.csv')\n",
        "ds.isnull().values.any()\n",
        "ds.dropna()\n",
        "ds"
      ],
      "execution_count": null,
      "outputs": [
        {
          "output_type": "execute_result",
          "data": {
            "text/html": [
              "<div>\n",
              "<style scoped>\n",
              "    .dataframe tbody tr th:only-of-type {\n",
              "        vertical-align: middle;\n",
              "    }\n",
              "\n",
              "    .dataframe tbody tr th {\n",
              "        vertical-align: top;\n",
              "    }\n",
              "\n",
              "    .dataframe thead th {\n",
              "        text-align: right;\n",
              "    }\n",
              "</style>\n",
              "<table border=\"1\" class=\"dataframe\">\n",
              "  <thead>\n",
              "    <tr style=\"text-align: right;\">\n",
              "      <th></th>\n",
              "      <th>Timestamp</th>\n",
              "      <th>Open</th>\n",
              "      <th>High</th>\n",
              "      <th>Low</th>\n",
              "      <th>Close</th>\n",
              "      <th>Volume_(BTC)</th>\n",
              "      <th>Volume_(Currency)</th>\n",
              "      <th>Weighted_Price</th>\n",
              "    </tr>\n",
              "  </thead>\n",
              "  <tbody>\n",
              "    <tr>\n",
              "      <th>0</th>\n",
              "      <td>1325317920</td>\n",
              "      <td>4.39</td>\n",
              "      <td>4.39</td>\n",
              "      <td>4.39</td>\n",
              "      <td>4.39</td>\n",
              "      <td>0.455581</td>\n",
              "      <td>2.0</td>\n",
              "      <td>4.39</td>\n",
              "    </tr>\n",
              "    <tr>\n",
              "      <th>1</th>\n",
              "      <td>1325317980</td>\n",
              "      <td>NaN</td>\n",
              "      <td>NaN</td>\n",
              "      <td>NaN</td>\n",
              "      <td>NaN</td>\n",
              "      <td>NaN</td>\n",
              "      <td>NaN</td>\n",
              "      <td>NaN</td>\n",
              "    </tr>\n",
              "    <tr>\n",
              "      <th>2</th>\n",
              "      <td>1325318040</td>\n",
              "      <td>NaN</td>\n",
              "      <td>NaN</td>\n",
              "      <td>NaN</td>\n",
              "      <td>NaN</td>\n",
              "      <td>NaN</td>\n",
              "      <td>NaN</td>\n",
              "      <td>NaN</td>\n",
              "    </tr>\n",
              "    <tr>\n",
              "      <th>3</th>\n",
              "      <td>1325318100</td>\n",
              "      <td>NaN</td>\n",
              "      <td>NaN</td>\n",
              "      <td>NaN</td>\n",
              "      <td>NaN</td>\n",
              "      <td>NaN</td>\n",
              "      <td>NaN</td>\n",
              "      <td>NaN</td>\n",
              "    </tr>\n",
              "    <tr>\n",
              "      <th>4</th>\n",
              "      <td>1325318160</td>\n",
              "      <td>NaN</td>\n",
              "      <td>NaN</td>\n",
              "      <td>NaN</td>\n",
              "      <td>NaN</td>\n",
              "      <td>NaN</td>\n",
              "      <td>NaN</td>\n",
              "      <td>NaN</td>\n",
              "    </tr>\n",
              "    <tr>\n",
              "      <th>...</th>\n",
              "      <td>...</td>\n",
              "      <td>...</td>\n",
              "      <td>...</td>\n",
              "      <td>...</td>\n",
              "      <td>...</td>\n",
              "      <td>...</td>\n",
              "      <td>...</td>\n",
              "      <td>...</td>\n",
              "    </tr>\n",
              "    <tr>\n",
              "      <th>187119</th>\n",
              "      <td>1336545060</td>\n",
              "      <td>NaN</td>\n",
              "      <td>NaN</td>\n",
              "      <td>NaN</td>\n",
              "      <td>NaN</td>\n",
              "      <td>NaN</td>\n",
              "      <td>NaN</td>\n",
              "      <td>NaN</td>\n",
              "    </tr>\n",
              "    <tr>\n",
              "      <th>187120</th>\n",
              "      <td>1336545120</td>\n",
              "      <td>NaN</td>\n",
              "      <td>NaN</td>\n",
              "      <td>NaN</td>\n",
              "      <td>NaN</td>\n",
              "      <td>NaN</td>\n",
              "      <td>NaN</td>\n",
              "      <td>NaN</td>\n",
              "    </tr>\n",
              "    <tr>\n",
              "      <th>187121</th>\n",
              "      <td>1336545180</td>\n",
              "      <td>NaN</td>\n",
              "      <td>NaN</td>\n",
              "      <td>NaN</td>\n",
              "      <td>NaN</td>\n",
              "      <td>NaN</td>\n",
              "      <td>NaN</td>\n",
              "      <td>NaN</td>\n",
              "    </tr>\n",
              "    <tr>\n",
              "      <th>187122</th>\n",
              "      <td>1336545240</td>\n",
              "      <td>NaN</td>\n",
              "      <td>NaN</td>\n",
              "      <td>NaN</td>\n",
              "      <td>NaN</td>\n",
              "      <td>NaN</td>\n",
              "      <td>NaN</td>\n",
              "      <td>NaN</td>\n",
              "    </tr>\n",
              "    <tr>\n",
              "      <th>187123</th>\n",
              "      <td>1336545300</td>\n",
              "      <td>NaN</td>\n",
              "      <td>NaN</td>\n",
              "      <td>NaN</td>\n",
              "      <td>NaN</td>\n",
              "      <td>NaN</td>\n",
              "      <td>NaN</td>\n",
              "      <td>NaN</td>\n",
              "    </tr>\n",
              "  </tbody>\n",
              "</table>\n",
              "<p>187124 rows × 8 columns</p>\n",
              "</div>"
            ],
            "text/plain": [
              "         Timestamp  Open  High  ...  Volume_(BTC)  Volume_(Currency)  Weighted_Price\n",
              "0       1325317920  4.39  4.39  ...      0.455581                2.0            4.39\n",
              "1       1325317980   NaN   NaN  ...           NaN                NaN             NaN\n",
              "2       1325318040   NaN   NaN  ...           NaN                NaN             NaN\n",
              "3       1325318100   NaN   NaN  ...           NaN                NaN             NaN\n",
              "4       1325318160   NaN   NaN  ...           NaN                NaN             NaN\n",
              "...            ...   ...   ...  ...           ...                ...             ...\n",
              "187119  1336545060   NaN   NaN  ...           NaN                NaN             NaN\n",
              "187120  1336545120   NaN   NaN  ...           NaN                NaN             NaN\n",
              "187121  1336545180   NaN   NaN  ...           NaN                NaN             NaN\n",
              "187122  1336545240   NaN   NaN  ...           NaN                NaN             NaN\n",
              "187123  1336545300   NaN   NaN  ...           NaN                NaN             NaN\n",
              "\n",
              "[187124 rows x 8 columns]"
            ]
          },
          "metadata": {},
          "execution_count": 2
        }
      ]
    },
    {
      "cell_type": "code",
      "metadata": {
        "colab": {
          "base_uri": "https://localhost:8080/"
        },
        "id": "fa6ex_i3RoqS",
        "outputId": "cfba83a5-b07b-4aee-c86d-075e2fe00f89"
      },
      "source": [
        "ds['Date'] = pd.to_datetime(ds['Timestamp'],unit='s').dt.date\n",
        "ds['Price'] = (ds['High']+ ds['Low'])/2\n",
        "group = ds.groupby('Date')\n",
        "Daily_Price = group['Price'].mean()\n",
        "Daily_Price.head()"
      ],
      "execution_count": null,
      "outputs": [
        {
          "output_type": "execute_result",
          "data": {
            "text/plain": [
              "Date\n",
              "2011-12-31    4.473750\n",
              "2012-01-01    4.806667\n",
              "2012-01-02    5.000000\n",
              "2012-01-03    5.252500\n",
              "2012-01-04    5.211667\n",
              "Name: Price, dtype: float64"
            ]
          },
          "metadata": {},
          "execution_count": 3
        }
      ]
    },
    {
      "cell_type": "code",
      "metadata": {
        "id": "h5QwXk44Rvr5"
      },
      "source": [
        "new_ds= pd.DataFrame(list(Daily_Price), index = Daily_Price.index, columns = [\"Price\"])"
      ],
      "execution_count": null,
      "outputs": []
    },
    {
      "cell_type": "code",
      "metadata": {
        "colab": {
          "base_uri": "https://localhost:8080/",
          "height": 235
        },
        "id": "UpxT3kBkR1IP",
        "outputId": "36fa35b5-09dd-4478-9346-8c4ee69662ba"
      },
      "source": [
        "\n",
        "new_ds.head()"
      ],
      "execution_count": null,
      "outputs": [
        {
          "output_type": "execute_result",
          "data": {
            "text/html": [
              "<div>\n",
              "<style scoped>\n",
              "    .dataframe tbody tr th:only-of-type {\n",
              "        vertical-align: middle;\n",
              "    }\n",
              "\n",
              "    .dataframe tbody tr th {\n",
              "        vertical-align: top;\n",
              "    }\n",
              "\n",
              "    .dataframe thead th {\n",
              "        text-align: right;\n",
              "    }\n",
              "</style>\n",
              "<table border=\"1\" class=\"dataframe\">\n",
              "  <thead>\n",
              "    <tr style=\"text-align: right;\">\n",
              "      <th></th>\n",
              "      <th>Price</th>\n",
              "    </tr>\n",
              "    <tr>\n",
              "      <th>Date</th>\n",
              "      <th></th>\n",
              "    </tr>\n",
              "  </thead>\n",
              "  <tbody>\n",
              "    <tr>\n",
              "      <th>2011-12-31</th>\n",
              "      <td>4.473750</td>\n",
              "    </tr>\n",
              "    <tr>\n",
              "      <th>2012-01-01</th>\n",
              "      <td>4.806667</td>\n",
              "    </tr>\n",
              "    <tr>\n",
              "      <th>2012-01-02</th>\n",
              "      <td>5.000000</td>\n",
              "    </tr>\n",
              "    <tr>\n",
              "      <th>2012-01-03</th>\n",
              "      <td>5.252500</td>\n",
              "    </tr>\n",
              "    <tr>\n",
              "      <th>2012-01-04</th>\n",
              "      <td>5.211667</td>\n",
              "    </tr>\n",
              "  </tbody>\n",
              "</table>\n",
              "</div>"
            ],
            "text/plain": [
              "               Price\n",
              "Date                \n",
              "2011-12-31  4.473750\n",
              "2012-01-01  4.806667\n",
              "2012-01-02  5.000000\n",
              "2012-01-03  5.252500\n",
              "2012-01-04  5.211667"
            ]
          },
          "metadata": {},
          "execution_count": 5
        }
      ]
    },
    {
      "cell_type": "code",
      "metadata": {
        "colab": {
          "base_uri": "https://localhost:8080/",
          "height": 377
        },
        "id": "VHIaqEsjR7HG",
        "outputId": "64e6ac44-6eb5-4a4f-81fc-c1c38d5874fb"
      },
      "source": [
        "plt.plot(new_ds,color='green', lw=2)\n",
        "plt.title(\"BitCoin Data\")\n",
        "plt.xlabel('Date')\n",
        "plt.ylabel('$(Dollar)')\n",
        "plt.xticks(rotation='vertical')"
      ],
      "execution_count": null,
      "outputs": [
        {
          "output_type": "execute_result",
          "data": {
            "text/plain": [
              "(array([734503., 734524., 734534., 734555., 734563., 734584., 734594.,\n",
              "        734615., 734624.]), <a list of 9 Text major ticklabel objects>)"
            ]
          },
          "metadata": {},
          "execution_count": 6
        },
        {
          "output_type": "display_data",
          "data": {
            "image/png": "[encoded data removed]",
            "text/plain": [
              "<Figure size 432x288 with 1 Axes>"
            ]
          },
          "metadata": {
            "needs_background": "light"
          }
        }
      ]
    },
    {
      "cell_type": "code",
      "metadata": {
        "colab": {
          "base_uri": "https://localhost:8080/"
        },
        "id": "VvwGm_85R-vD",
        "outputId": "11e25a40-489a-4ea6-d2c9-ea99e72fc6a9"
      },
      "source": [
        "ds=new_ds\n",
        "forecast_out = int(20)\n",
        "\n",
        "ds['Prediction'] = ds[['Price']].shift(-forecast_out)\n",
        "\n",
        "X = np.array(ds.drop(['Prediction'],1))\n",
        "X = preprocessing.scale(X)\n",
        "\n",
        "X_forecast = X[-forecast_out:]\n",
        "X = X[:-forecast_out]\n",
        "\n",
        "y = np.array(ds['Prediction'])\n",
        "y = y[:-forecast_out]\n",
        "\n",
        "X_train, X_test, y_train, y_test = train_test_split(X, y, test_size = 0.2,random_state=0)\n",
        "\n",
        "clf = LinearRegression()\n",
        "clf.fit(X_train,y_train)\n",
        "cross_validation = clf.predict(X_test)\n",
        "score = clf.score(X_test, y_test)\n",
        "print(\"score \", score)\n",
        "forecast_prediction = clf.predict(X_forecast)\n",
        "print(forecast_prediction)"
      ],
      "execution_count": null,
      "outputs": [
        {
          "output_type": "stream",
          "name": "stdout",
          "text": [
            "score  0.16310443171338151\n",
            "[5.10124632 5.13213905 5.10993152 5.09604129 5.07679424 5.06373062\n",
            " 5.06071536 5.05936582 5.03836408 5.02567589 5.03879388 5.04356721\n",
            " 5.0753321  5.08102213 5.08112426 5.07033918 5.06962628 5.06227768\n",
            " 5.06468313 5.06468313]\n"
          ]
        }
      ]
    },
    {
      "cell_type": "code",
      "metadata": {
        "colab": {
          "base_uri": "https://localhost:8080/",
          "height": 296
        },
        "id": "P6sAXXsoSfkg",
        "outputId": "6425c658-81b8-4ec4-adc6-5a46359d91eb"
      },
      "source": [
        "\n",
        "# print(X_test)\n",
        "# print(y_test)\n",
        "# plt.plot(X_test,forecast_set,color='blue', linewidth=1)\n",
        "plt.scatter(X_test, y_test, color='darkorange', label='test_data')\n",
        "plt.plot(X_test, cross_validation, color='green', linewidth=2,label='predicted data')\n",
        "# plt.plot(new_df,color='green', lw=2)\n",
        "plt.title(\"Crossvalidation (Linear Regression)\")\n",
        "plt.xlabel('X_test')\n",
        "plt.ylabel('y')\n",
        "# plt.plot(X_test, forecast_prediction, color='blue', linew/idth=2)\n",
        "plt.show()"
      ],
      "execution_count": null,
      "outputs": [
        {
          "output_type": "display_data",
          "data": {
            "image/png": "[encoded data removed]",
            "text/plain": [
              "<Figure size 432x288 with 1 Axes>"
            ]
          },
          "metadata": {
            "needs_background": "light"
          }
        }
      ]
    },
    {
      "cell_type": "code",
      "metadata": {
        "colab": {
          "base_uri": "https://localhost:8080/"
        },
        "id": "-gUjCnypS0aH",
        "outputId": "50d1c99a-e391-4418-bcb2-b42816d170cd"
      },
      "source": [
        "rms = sqrt(mean_squared_error(y_test, cross_validation))\n",
        "print(rms)"
      ],
      "execution_count": null,
      "outputs": [
        {
          "output_type": "stream",
          "name": "stdout",
          "text": [
            "0.4055613299127569\n"
          ]
        }
      ]
    },
    {
      "cell_type": "code",
      "metadata": {
        "colab": {
          "base_uri": "https://localhost:8080/"
        },
        "id": "wG_RTAPoS4jp",
        "outputId": "994e1375-839f-4a64-fe99-8791b1c3d255"
      },
      "source": [
        "last_date = new_ds.iloc[-1].name\n",
        "print(last_date)"
      ],
      "execution_count": null,
      "outputs": [
        {
          "output_type": "stream",
          "name": "stdout",
          "text": [
            "2012-05-09\n"
          ]
        }
      ]
    },
    {
      "cell_type": "code",
      "metadata": {
        "colab": {
          "base_uri": "https://localhost:8080/"
        },
        "id": "mAd68ex0S-EH",
        "outputId": "038923bd-9324-435c-fca4-9e4b57cee1b8"
      },
      "source": [
        "date_today = last_date\n",
        "days = pd.date_range(date_today, date_today + timedelta(19), freq='D')\n",
        "print(len(days),len(forecast_prediction))\n",
        "ds1 = pd.DataFrame({'Date': days, 'Price': forecast_prediction})\n",
        "ds1 =ds1.set_index('Date')\n",
        "ds1.info()\n",
        "print(ds.head())"
      ],
      "execution_count": null,
      "outputs": [
        {
          "output_type": "stream",
          "name": "stdout",
          "text": [
            "20 20\n",
            "<class 'pandas.core.frame.DataFrame'>\n",
            "DatetimeIndex: 20 entries, 2012-05-09 to 2012-05-28\n",
            "Data columns (total 1 columns):\n",
            " #   Column  Non-Null Count  Dtype  \n",
            "---  ------  --------------  -----  \n",
            " 0   Price   20 non-null     float64\n",
            "dtypes: float64(1)\n",
            "memory usage: 320.0 bytes\n",
            "               Price  Prediction\n",
            "Date                            \n",
            "2011-12-31  4.473750    6.835000\n",
            "2012-01-01  4.806667    6.386000\n",
            "2012-01-02  5.000000    6.485000\n",
            "2012-01-03  5.252500    6.407500\n",
            "2012-01-04  5.211667    6.495556\n"
          ]
        }
      ]
    },
    {
      "cell_type": "code",
      "metadata": {
        "colab": {
          "base_uri": "https://localhost:8080/",
          "height": 394
        },
        "id": "mmlQULuqTPdA",
        "outputId": "bc3b2f53-4f6e-4668-dfb4-76b7dd82609b"
      },
      "source": [
        "plt.plot(ds1,color='green', lw=2)\n",
        "plt.title(\"Predicted Next 20 Days\")\n",
        "plt.xlabel('Date')\n",
        "plt.ylabel('$(Dollar)')\n",
        "plt.xticks(rotation='vertical')"
      ],
      "execution_count": null,
      "outputs": [
        {
          "output_type": "execute_result",
          "data": {
            "text/plain": [
              "(array([734632., 734634., 734636., 734638., 734640., 734642., 734644.,\n",
              "        734646., 734648., 734650.]),\n",
              " <a list of 10 Text major ticklabel objects>)"
            ]
          },
          "metadata": {},
          "execution_count": 12
        },
        {
          "output_type": "display_data",
          "data": {
            "image/png": "[encoded data removed]",
            "text/plain": [
              "<Figure size 432x288 with 1 Axes>"
            ]
          },
          "metadata": {
            "needs_background": "light"
          }
        }
      ]
    },
    {
      "cell_type": "code",
      "metadata": {
        "colab": {
          "base_uri": "https://localhost:8080/",
          "height": 312
        },
        "id": "rn_8wBq1TW8i",
        "outputId": "bd5806b5-26bc-4fa0-eb9f-3860862157b7"
      },
      "source": [
        "plt.plot(ds1,)\n",
        "plt.plot(ds['Price'],color='green', lw=2, label='Bitcoin Data')\n",
        "plt.plot(ds1['Price'],color='red', lw=2, label='Predicted')\n",
        "plt.title(\"Predicted (Linear Regression)\")\n",
        "plt.xlabel('Date')\n",
        "plt.ylabel('$(Dollar)')\n"
      ],
      "execution_count": null,
      "outputs": [
        {
          "output_type": "execute_result",
          "data": {
            "text/plain": [
              "Text(0, 0.5, '$(Dollar)')"
            ]
          },
          "metadata": {},
          "execution_count": 14
        },
        {
          "output_type": "display_data",
          "data": {
            "image/png": "[encoded data removed]",
            "text/plain": [
              "<Figure size 432x288 with 1 Axes>"
            ]
          },
          "metadata": {
            "needs_background": "light"
          }
        }
      ]
    }
  ]
}